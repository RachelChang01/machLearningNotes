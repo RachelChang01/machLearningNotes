{
 "cells": [
  {
   "cell_type": "markdown",
   "metadata": {},
   "source": [
    "常见概念"
   ]
  },
  {
   "cell_type": "markdown",
   "metadata": {},
   "source": [
    "数据集，属性值，属性空间，样本空间，输入空间"
   ]
  },
  {
   "cell_type": "markdown",
   "metadata": {},
   "source": [
    "根据预测值的情况：预测离散值为分类预测，预测连续值则为回归预测"
   ]
  },
  {
   "cell_type": "markdown",
   "metadata": {},
   "source": [
    "根据训练数据是否有标记信息（分类和回归），将学习任务分为监督学习和无监督学习（聚类）"
   ]
  },
  {
   "cell_type": "markdown",
   "metadata": {},
   "source": [
    "归纳学习：狭义和广义；狭义又称概念学习，最基本为布尔概念学习；"
   ]
  },
  {
   "cell_type": "markdown",
   "metadata": {},
   "source": [
    "假设集合，版本空间，机器学习算法在学习过程中对某种类型的偏好，称为归纳偏好；偏好是有效机器学习的必备质素"
   ]
  },
  {
   "cell_type": "markdown",
   "metadata": {},
   "source": [
    "NFL定理：假设了f的均匀分布，实际上在具体问题中，这个假设不符合实际；实际中学习算法的自身偏好要与问题相配"
   ]
  },
  {
   "cell_type": "markdown",
   "metadata": {},
   "source": [
    "奥卡姆剃刀原则：若有多个假设与观察一致，那么选最简单的那个"
   ]
  },
  {
   "cell_type": "markdown",
   "metadata": {},
   "source": [
    "训练误差，经验误差，泛化误差，过拟合，欠拟合"
   ]
  },
  {
   "cell_type": "markdown",
   "metadata": {},
   "source": [
    "评估方法"
   ]
  },
  {
   "cell_type": "markdown",
   "metadata": {},
   "source": [
    "1.留出法 训练集和测试集要尽可能保证数据分布的一致性；若干次随机划分，重复进行试验评估后取平均值\n",
    "2.交叉验证法 留一法\n",
    "3.自助法 改变了初始数据集的分布"
   ]
  },
  {
   "cell_type": "markdown",
   "metadata": {},
   "source": [
    "算法的参数为超参数，模型的参数为参数"
   ]
  },
  {
   "cell_type": "markdown",
   "metadata": {},
   "source": [
    "性能度量"
   ]
  },
  {
   "cell_type": "markdown",
   "metadata": {},
   "source": [
    "错误率和精度，查准率和查全率；p-r曲线，p-r曲线的面积可以衡量模型的好坏；平衡点：查准率=查全率；F1度量"
   ]
  },
  {
   "cell_type": "markdown",
   "metadata": {},
   "source": [
    "ROC与AUC"
   ]
  },
  {
   "cell_type": "markdown",
   "metadata": {},
   "source": [
    "ROC曲线的绘制：根据学习器的预测结果对样例进行排序，按此顺序逐个把样本作为正例进行预测，每次计算出两个重要量的值，分别以它们为横纵坐标作图，就得到了ROC曲线；两个重要量分别为TPR和FPR"
   ]
  },
  {
   "cell_type": "markdown",
   "metadata": {},
   "source": [
    "AUC可以通过对ROC曲线下各部分的面积求和得到"
   ]
  },
  {
   "cell_type": "code",
   "execution_count": null,
   "metadata": {},
   "outputs": [],
   "source": []
  }
 ],
 "metadata": {
  "kernelspec": {
   "display_name": "Python 3",
   "language": "python",
   "name": "python3"
  },
  "language_info": {
   "codemirror_mode": {
    "name": "ipython",
    "version": 3
   },
   "file_extension": ".py",
   "mimetype": "text/x-python",
   "name": "python",
   "nbconvert_exporter": "python",
   "pygments_lexer": "ipython3",
   "version": "3.8.5"
  }
 },
 "nbformat": 4,
 "nbformat_minor": 4
}
